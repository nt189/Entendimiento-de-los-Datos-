{
  "cells": [
    {
      "cell_type": "code",
      "execution_count": 41,
      "metadata": {
        "id": "ZGUs7lDtm3QW"
      },
      "outputs": [],
      "source": [
        "import pandas as pd\n",
        "import numpy as np\n",
        "import matplotlib.pyplot as plt\n",
        "import seaborn as sns"
      ]
    },
    {
      "cell_type": "code",
      "execution_count": 42,
      "metadata": {
        "id": "8tSaiEQEoWYi"
      },
      "outputs": [],
      "source": [
        "df= pd.read_excel('Detalle precios y productos fabricados 2022.xlsx')"
      ]
    },
    {
      "cell_type": "markdown",
      "metadata": {
        "id": "vRux_eujuH-W"
      },
      "source": [
        "## **Filtros**\n",
        "\n"
      ]
    },
    {
      "cell_type": "code",
      "execution_count": 43,
      "metadata": {
        "id": "KjYevsIyvZkQ"
      },
      "outputs": [],
      "source": [
        "#Filtro por objeto\n",
        "filtro1=df[(df[\"NOMBRE_VENDEDOR\"] == \"LETICIA RAMIREZ HERNANDEZ\")]\n",
        "filtro1.to_csv(\"Filtro 1 por obejto LETICIA RAMIREZ HERNANDEZ en la columna NOMBRE_VENDEDOR.csv\", index=False)\n",
        "# filtro1"
      ]
    },
    {
      "cell_type": "code",
      "execution_count": 44,
      "metadata": {
        "id": "5mz0ZRXjodHH"
      },
      "outputs": [],
      "source": [
        "#filtro por filas.\n",
        "filtro2 = df.iloc [3:11 , :] #filas consecutivas.\n",
        "filtro2.to_csv(\"Filtro 2 por filas consecutivas de la 3 a la 11.csv\", index=False)\n",
        "filtro2 = df.iloc[ [2,5] , : ] #filas no consecutivas. \":\" significa que sean todas\n",
        "filtro2.to_csv(\"Filtro 2 por filas no consecutivas. La2 y 5.csv\", index=False)\n",
        "# filtro2"
      ]
    },
    {
      "cell_type": "code",
      "execution_count": 45,
      "metadata": {
        "id": "8yDJeFsSo0W3"
      },
      "outputs": [],
      "source": [
        "#filtro por columnas\n",
        "filtro3 = df.iloc[ : , 1:3] #columnas consecutivas\n",
        "filtro3.to_csv(\"Filtro 3 por columnas consecutivas de la 1 a la 3.csv\", index=False)\n",
        "filtro3 = df.iloc[ : , [1,4,5]] #columnas no consecutivas\n",
        "filtro3.to_csv(\"Filtro 3 por columnas no consecutivas. La 1, 4 y 5.csv\", index=False)\n",
        "# filtro3"
      ]
    },
    {
      "cell_type": "code",
      "execution_count": 46,
      "metadata": {
        "colab": {
          "base_uri": "https://localhost:8080/",
          "height": 839
        },
        "id": "XvMPLodepjB4",
        "outputId": "45cb0e30-fa77-4e16-ab95-655b97abf251"
      },
      "outputs": [
        {
          "data": {
            "text/html": [
              "<div>\n",
              "<style scoped>\n",
              "    .dataframe tbody tr th:only-of-type {\n",
              "        vertical-align: middle;\n",
              "    }\n",
              "\n",
              "    .dataframe tbody tr th {\n",
              "        vertical-align: top;\n",
              "    }\n",
              "\n",
              "    .dataframe thead th {\n",
              "        text-align: right;\n",
              "    }\n",
              "</style>\n",
              "<table border=\"1\" class=\"dataframe\">\n",
              "  <thead>\n",
              "    <tr style=\"text-align: right;\">\n",
              "      <th></th>\n",
              "      <th>CVE_DOC</th>\n",
              "      <th>NOMBRE_VENDEDOR</th>\n",
              "      <th>NOMBRE_CLIENTE</th>\n",
              "      <th>CANT</th>\n",
              "      <th>CVE_ART</th>\n",
              "      <th>DESCR</th>\n",
              "      <th>PRECIO_UNITARIO</th>\n",
              "      <th>COSTO_UNITARIO</th>\n",
              "      <th>COSTO_UNITARIO_CALCULADO</th>\n",
              "      <th>SUBTOTAL_PARTIDA</th>\n",
              "      <th>COSTO_TOTAL_CALCULADO</th>\n",
              "      <th>MARGEN_UNITARIO_CALCULADO</th>\n",
              "      <th>MARGEN_TOTAL_CALCULADO</th>\n",
              "    </tr>\n",
              "    <tr>\n",
              "      <th>FECHA_DOC</th>\n",
              "      <th></th>\n",
              "      <th></th>\n",
              "      <th></th>\n",
              "      <th></th>\n",
              "      <th></th>\n",
              "      <th></th>\n",
              "      <th></th>\n",
              "      <th></th>\n",
              "      <th></th>\n",
              "      <th></th>\n",
              "      <th></th>\n",
              "      <th></th>\n",
              "      <th></th>\n",
              "    </tr>\n",
              "  </thead>\n",
              "  <tbody>\n",
              "    <tr>\n",
              "      <th>2022-01-05</th>\n",
              "      <td>F37034</td>\n",
              "      <td>LETICIA RAMIREZ HERNANDEZ</td>\n",
              "      <td>PÚBLICO EN GENERAL</td>\n",
              "      <td>1</td>\n",
              "      <td>TUE00244</td>\n",
              "      <td>TUB COBRE 5/16\"ØX165MM CIRCULA1.5KW127V</td>\n",
              "      <td>434.48</td>\n",
              "      <td>52.80</td>\n",
              "      <td>52.80</td>\n",
              "      <td>434.48</td>\n",
              "      <td>52.80</td>\n",
              "      <td>381.68</td>\n",
              "      <td>381.68</td>\n",
              "    </tr>\n",
              "    <tr>\n",
              "      <th>2022-01-05</th>\n",
              "      <td>F37036</td>\n",
              "      <td>LETICIA RAMIREZ HERNANDEZ</td>\n",
              "      <td>JUAN ANTONIO RESENDIZ UGALDE</td>\n",
              "      <td>1</td>\n",
              "      <td>TUA00028</td>\n",
              "      <td>TUA U\" 5/16 ØX250MM 1200W 120V TAP1\"NPT</td>\n",
              "      <td>1264.05</td>\n",
              "      <td>327.18</td>\n",
              "      <td>327.18</td>\n",
              "      <td>1264.05</td>\n",
              "      <td>327.18</td>\n",
              "      <td>936.87</td>\n",
              "      <td>936.87</td>\n",
              "    </tr>\n",
              "    <tr>\n",
              "      <th>2022-01-05</th>\n",
              "      <td>F37041</td>\n",
              "      <td>DIEGO ARMANDO LEON DURAN</td>\n",
              "      <td>ANA BARBARA CRUZ PALACIOS</td>\n",
              "      <td>7</td>\n",
              "      <td>TP0007</td>\n",
              "      <td>TERMOPAR J 3/16 Ø X 1' 1/2 EXT. 7 MT</td>\n",
              "      <td>551.61</td>\n",
              "      <td>177.68</td>\n",
              "      <td>177.68</td>\n",
              "      <td>3861.29</td>\n",
              "      <td>1243.73</td>\n",
              "      <td>373.94</td>\n",
              "      <td>2617.56</td>\n",
              "    </tr>\n",
              "    <tr>\n",
              "      <th>2022-01-05</th>\n",
              "      <td>F37042</td>\n",
              "      <td>DIEGO ARMANDO LEON DURAN</td>\n",
              "      <td>OMAR RODRIGUEZ GOMEZ</td>\n",
              "      <td>1</td>\n",
              "      <td>TP0001</td>\n",
              "      <td>TERMOPAR J 3/16 Ø X 1' 1/2 EXT. 1 MT</td>\n",
              "      <td>140.00</td>\n",
              "      <td>38.96</td>\n",
              "      <td>38.96</td>\n",
              "      <td>140.00</td>\n",
              "      <td>38.96</td>\n",
              "      <td>101.04</td>\n",
              "      <td>101.04</td>\n",
              "    </tr>\n",
              "    <tr>\n",
              "      <th>2022-01-05</th>\n",
              "      <td>F37043</td>\n",
              "      <td>LETICIA RAMIREZ HERNANDEZ</td>\n",
              "      <td>PÚBLICO EN GENERAL</td>\n",
              "      <td>2</td>\n",
              "      <td>BP00242</td>\n",
              "      <td>BAN P INOX 115MMX235MM 1000W 127V T/TOR</td>\n",
              "      <td>172.41</td>\n",
              "      <td>101.71</td>\n",
              "      <td>101.71</td>\n",
              "      <td>344.83</td>\n",
              "      <td>203.42</td>\n",
              "      <td>70.71</td>\n",
              "      <td>141.41</td>\n",
              "    </tr>\n",
              "    <tr>\n",
              "      <th>...</th>\n",
              "      <td>...</td>\n",
              "      <td>...</td>\n",
              "      <td>...</td>\n",
              "      <td>...</td>\n",
              "      <td>...</td>\n",
              "      <td>...</td>\n",
              "      <td>...</td>\n",
              "      <td>...</td>\n",
              "      <td>...</td>\n",
              "      <td>...</td>\n",
              "      <td>...</td>\n",
              "      <td>...</td>\n",
              "      <td>...</td>\n",
              "    </tr>\n",
              "    <tr>\n",
              "      <th>2022-12-23</th>\n",
              "      <td>F39834</td>\n",
              "      <td>LETICIA RAMIREZ HERNANDEZ</td>\n",
              "      <td>LUIS ENRIQUE PATIÑO PEREZ</td>\n",
              "      <td>6</td>\n",
              "      <td>CS12F1040A00</td>\n",
              "      <td>CAS INOX 1/2\"ØX3\" 400W 127V EXT.30CM</td>\n",
              "      <td>712.00</td>\n",
              "      <td>102.31</td>\n",
              "      <td>102.31</td>\n",
              "      <td>4272.00</td>\n",
              "      <td>613.88</td>\n",
              "      <td>609.69</td>\n",
              "      <td>3658.12</td>\n",
              "    </tr>\n",
              "    <tr>\n",
              "      <th>2022-12-23</th>\n",
              "      <td>F39834</td>\n",
              "      <td>LETICIA RAMIREZ HERNANDEZ</td>\n",
              "      <td>LUIS ENRIQUE PATIÑO PEREZ</td>\n",
              "      <td>6</td>\n",
              "      <td>CS12H1050A00</td>\n",
              "      <td>CAS INOX 1/2\"ØX4\" 500W 127V EXT30CM</td>\n",
              "      <td>718.60</td>\n",
              "      <td>104.69</td>\n",
              "      <td>104.69</td>\n",
              "      <td>4311.60</td>\n",
              "      <td>628.12</td>\n",
              "      <td>613.91</td>\n",
              "      <td>3683.48</td>\n",
              "    </tr>\n",
              "    <tr>\n",
              "      <th>2022-12-23</th>\n",
              "      <td>F39835</td>\n",
              "      <td>LETICIA RAMIREZ HERNANDEZ</td>\n",
              "      <td>SEVEN DAYS ALL SPORT</td>\n",
              "      <td>3</td>\n",
              "      <td>TUE00394</td>\n",
              "      <td>TUB INOX 5/16\"ØX300MM 5300W 220V \"M\" ESP</td>\n",
              "      <td>2182.35</td>\n",
              "      <td>0.00</td>\n",
              "      <td>596.55</td>\n",
              "      <td>6547.05</td>\n",
              "      <td>1789.64</td>\n",
              "      <td>1585.80</td>\n",
              "      <td>4757.41</td>\n",
              "    </tr>\n",
              "    <tr>\n",
              "      <th>2022-12-23</th>\n",
              "      <td>F39837</td>\n",
              "      <td>LETICIA RAMIREZ HERNANDEZ</td>\n",
              "      <td>REVUELTA MONTECARLO</td>\n",
              "      <td>1</td>\n",
              "      <td>TUA00470</td>\n",
              "      <td>TUB INOX 1/2\"ØX500MM 10KW 220V 2 1/2\"NPT</td>\n",
              "      <td>5909.84</td>\n",
              "      <td>1884.35</td>\n",
              "      <td>1884.35</td>\n",
              "      <td>5909.84</td>\n",
              "      <td>1884.35</td>\n",
              "      <td>4025.49</td>\n",
              "      <td>4025.49</td>\n",
              "    </tr>\n",
              "    <tr>\n",
              "      <th>2022-12-23</th>\n",
              "      <td>F39838</td>\n",
              "      <td>AARON NUÑO CORDOVA</td>\n",
              "      <td>CPEG SOLUTIONS</td>\n",
              "      <td>10</td>\n",
              "      <td>RB00007</td>\n",
              "      <td>FAB  BOBINA DSD1 6 COLOCAR B/NUEVA 488V</td>\n",
              "      <td>1406.00</td>\n",
              "      <td>0.00</td>\n",
              "      <td>80.66</td>\n",
              "      <td>14060.00</td>\n",
              "      <td>806.55</td>\n",
              "      <td>1325.34</td>\n",
              "      <td>13253.45</td>\n",
              "    </tr>\n",
              "  </tbody>\n",
              "</table>\n",
              "<p>1426 rows × 13 columns</p>\n",
              "</div>"
            ],
            "text/plain": [
              "           CVE_DOC            NOMBRE_VENDEDOR                NOMBRE_CLIENTE  \\\n",
              "FECHA_DOC                                                                     \n",
              "2022-01-05  F37034  LETICIA RAMIREZ HERNANDEZ            PÚBLICO EN GENERAL   \n",
              "2022-01-05  F37036  LETICIA RAMIREZ HERNANDEZ  JUAN ANTONIO RESENDIZ UGALDE   \n",
              "2022-01-05  F37041   DIEGO ARMANDO LEON DURAN     ANA BARBARA CRUZ PALACIOS   \n",
              "2022-01-05  F37042   DIEGO ARMANDO LEON DURAN          OMAR RODRIGUEZ GOMEZ   \n",
              "2022-01-05  F37043  LETICIA RAMIREZ HERNANDEZ            PÚBLICO EN GENERAL   \n",
              "...            ...                        ...                           ...   \n",
              "2022-12-23  F39834  LETICIA RAMIREZ HERNANDEZ     LUIS ENRIQUE PATIÑO PEREZ   \n",
              "2022-12-23  F39834  LETICIA RAMIREZ HERNANDEZ     LUIS ENRIQUE PATIÑO PEREZ   \n",
              "2022-12-23  F39835  LETICIA RAMIREZ HERNANDEZ          SEVEN DAYS ALL SPORT   \n",
              "2022-12-23  F39837  LETICIA RAMIREZ HERNANDEZ           REVUELTA MONTECARLO   \n",
              "2022-12-23  F39838         AARON NUÑO CORDOVA                CPEG SOLUTIONS   \n",
              "\n",
              "            CANT       CVE_ART                                     DESCR  \\\n",
              "FECHA_DOC                                                                  \n",
              "2022-01-05     1      TUE00244   TUB COBRE 5/16\"ØX165MM CIRCULA1.5KW127V   \n",
              "2022-01-05     1      TUA00028   TUA U\" 5/16 ØX250MM 1200W 120V TAP1\"NPT   \n",
              "2022-01-05     7        TP0007      TERMOPAR J 3/16 Ø X 1' 1/2 EXT. 7 MT   \n",
              "2022-01-05     1        TP0001      TERMOPAR J 3/16 Ø X 1' 1/2 EXT. 1 MT   \n",
              "2022-01-05     2       BP00242   BAN P INOX 115MMX235MM 1000W 127V T/TOR   \n",
              "...          ...           ...                                       ...   \n",
              "2022-12-23     6  CS12F1040A00      CAS INOX 1/2\"ØX3\" 400W 127V EXT.30CM   \n",
              "2022-12-23     6  CS12H1050A00       CAS INOX 1/2\"ØX4\" 500W 127V EXT30CM   \n",
              "2022-12-23     3      TUE00394  TUB INOX 5/16\"ØX300MM 5300W 220V \"M\" ESP   \n",
              "2022-12-23     1      TUA00470  TUB INOX 1/2\"ØX500MM 10KW 220V 2 1/2\"NPT   \n",
              "2022-12-23    10       RB00007   FAB  BOBINA DSD1 6 COLOCAR B/NUEVA 488V   \n",
              "\n",
              "            PRECIO_UNITARIO  COSTO_UNITARIO  COSTO_UNITARIO_CALCULADO  \\\n",
              "FECHA_DOC                                                               \n",
              "2022-01-05           434.48           52.80                     52.80   \n",
              "2022-01-05          1264.05          327.18                    327.18   \n",
              "2022-01-05           551.61          177.68                    177.68   \n",
              "2022-01-05           140.00           38.96                     38.96   \n",
              "2022-01-05           172.41          101.71                    101.71   \n",
              "...                     ...             ...                       ...   \n",
              "2022-12-23           712.00          102.31                    102.31   \n",
              "2022-12-23           718.60          104.69                    104.69   \n",
              "2022-12-23          2182.35            0.00                    596.55   \n",
              "2022-12-23          5909.84         1884.35                   1884.35   \n",
              "2022-12-23          1406.00            0.00                     80.66   \n",
              "\n",
              "            SUBTOTAL_PARTIDA  COSTO_TOTAL_CALCULADO  \\\n",
              "FECHA_DOC                                             \n",
              "2022-01-05            434.48                  52.80   \n",
              "2022-01-05           1264.05                 327.18   \n",
              "2022-01-05           3861.29                1243.73   \n",
              "2022-01-05            140.00                  38.96   \n",
              "2022-01-05            344.83                 203.42   \n",
              "...                      ...                    ...   \n",
              "2022-12-23           4272.00                 613.88   \n",
              "2022-12-23           4311.60                 628.12   \n",
              "2022-12-23           6547.05                1789.64   \n",
              "2022-12-23           5909.84                1884.35   \n",
              "2022-12-23          14060.00                 806.55   \n",
              "\n",
              "            MARGEN_UNITARIO_CALCULADO  MARGEN_TOTAL_CALCULADO  \n",
              "FECHA_DOC                                                      \n",
              "2022-01-05                     381.68                  381.68  \n",
              "2022-01-05                     936.87                  936.87  \n",
              "2022-01-05                     373.94                 2617.56  \n",
              "2022-01-05                     101.04                  101.04  \n",
              "2022-01-05                      70.71                  141.41  \n",
              "...                               ...                     ...  \n",
              "2022-12-23                     609.69                 3658.12  \n",
              "2022-12-23                     613.91                 3683.48  \n",
              "2022-12-23                    1585.80                 4757.41  \n",
              "2022-12-23                    4025.49                 4025.49  \n",
              "2022-12-23                    1325.34                13253.45  \n",
              "\n",
              "[1426 rows x 13 columns]"
            ]
          },
          "execution_count": 46,
          "metadata": {},
          "output_type": "execute_result"
        }
      ],
      "source": [
        "#seleccion de indices desde la importacion del archivo\n",
        "df1 = pd.read_excel('Detalle precios y productos fabricados 2022.xlsx', index_col=1)\n",
        "df1"
      ]
    },
    {
      "cell_type": "code",
      "execution_count": 47,
      "metadata": {
        "id": "Do4SQntsqlbz"
      },
      "outputs": [],
      "source": [
        "#paso 2: Aplicamos filtros de filas vs columnas\n",
        "filtro4 = df1.loc[[\"2022-01-05\", \"2022-02-08\"],[\"NOMBRE_CLIENTE\"]]\n",
        "filtro4.to_csv(\"Filtro 4 por filas con las fecha 2022-01-05 y2022-02-08, y columnas NOMBRE_CLIENTE.csv\", index=False)\n",
        "# filtro4"
      ]
    },
    {
      "cell_type": "code",
      "execution_count": 48,
      "metadata": {
        "id": "MQUABMKsrZb0"
      },
      "outputs": [],
      "source": [
        "#Filtro por cabeza\n",
        "filtro5 = df1.head()\n",
        "filtro5.to_csv(\"Filtro 5 por cabeza sin especificar cuantos va ha mostrar.csv\", index=False)\n",
        "# filtro5"
      ]
    },
    {
      "cell_type": "code",
      "execution_count": 49,
      "metadata": {
        "id": "cCI2C96KrkgN"
      },
      "outputs": [],
      "source": [
        "#filtro por cola\n",
        "filtro6 = df1.tail()\n",
        "filtro6.to_csv(\"Filtro 6 por cola sin especificar cuantos va ha mostrar.csv\", index=False)\n",
        "# filtro6"
      ]
    },
    {
      "cell_type": "markdown",
      "metadata": {
        "id": "MpiZsqv4r-s4"
      },
      "source": [
        "Filtros basicos para variables cuantitativas"
      ]
    },
    {
      "cell_type": "code",
      "execution_count": 50,
      "metadata": {
        "id": "ezpWs45ur8NA"
      },
      "outputs": [],
      "source": [
        "#filtro por comparacion\n",
        "filtro7 = df[df[\"PRECIO_UNITARIO\"] > 500]\n",
        "filtro7.to_csv(\"Filtro 7 por comparacion donde la columna PRECIO_UNITARIO Sea 500.csv\", index=False)\n",
        "# filtro7"
      ]
    },
    {
      "cell_type": "markdown",
      "metadata": {
        "id": "zzdMlpGgsmPb"
      },
      "source": [
        "Filtro basico con conectores logicos"
      ]
    },
    {
      "cell_type": "code",
      "execution_count": 51,
      "metadata": {
        "id": "hyyGSZsXsl8k"
      },
      "outputs": [],
      "source": [
        "#filtro Y\n",
        "filtro8 = df[(df[\"PRECIO_UNITARIO\"] < 500) & (df[\"NOMBRE_VENDEDOR\"] == \"DIEGO ARMANDO LEON DURAN\")]\n",
        "filtro8.to_csv(\"Filtro 8 operador y donde PRECIO_UNITARIO sea menor a 500 y lo haya realizado DIEGO ARMANDO LEON DURAN.csv\", index=False)\n",
        "# filtro8"
      ]
    },
    {
      "cell_type": "code",
      "execution_count": 52,
      "metadata": {
        "colab": {
          "base_uri": "https://localhost:8080/",
          "height": 808
        },
        "id": "ICY4xkG1sXcG",
        "outputId": "efed571b-f665-41f6-9416-b94ac957fb8c"
      },
      "outputs": [],
      "source": [
        "#filtro O\n",
        "filtro9 = df[(df[\"PRECIO_UNITARIO\"] < 500) | (df[\"PRECIO_UNITARIO\"] > 3)]\n",
        "filtro9.to_csv(\"Filtro 9 operador o donde PRECIO_UNITARIO sea menor a 500 o la CANT sea mayor a 3.csv\", index=False)\n",
        "# filtro9"
      ]
    },
    {
      "cell_type": "code",
      "execution_count": 53,
      "metadata": {
        "colab": {
          "base_uri": "https://localhost:8080/",
          "height": 894
        },
        "id": "N7L5xqzhtPLT",
        "outputId": "dc44b2cb-7aad-40e7-c582-ad67240baeac"
      },
      "outputs": [],
      "source": [
        "#filtro not\n",
        "filtro10 = df[~(df[\"NOMBRE_CLIENTE\"] == \"PÚBLICO EN GENERAL\")]\n",
        "filtro10.to_csv(\"Filtro 10 operador not donde el NOMBRE_CLIENTE no sea PÚBLICO EN GENERAL.csv\", index=False)\n",
        "# filtro10"
      ]
    },
    {
      "cell_type": "code",
      "execution_count": null,
      "metadata": {
        "id": "2TD3nJMGunsQ"
      },
      "outputs": [],
      "source": []
    }
  ],
  "metadata": {
    "colab": {
      "provenance": []
    },
    "kernelspec": {
      "display_name": "Python 3",
      "name": "python3"
    },
    "language_info": {
      "codemirror_mode": {
        "name": "ipython",
        "version": 3
      },
      "file_extension": ".py",
      "mimetype": "text/x-python",
      "name": "python",
      "nbconvert_exporter": "python",
      "pygments_lexer": "ipython3",
      "version": "3.12.8"
    }
  },
  "nbformat": 4,
  "nbformat_minor": 0
}
